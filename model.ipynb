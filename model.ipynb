{
 "cells": [
  {
   "cell_type": "code",
   "execution_count": 2,
   "id": "179246f7",
   "metadata": {},
   "outputs": [],
   "source": [
    "import pandas as pd\n",
    "import numpy as np\n",
    "from sklearn.model_selection import train_test_split\n",
    "import matplotlib.pyplot as plt\n",
    "from sklearn.linear_model import LinearRegression\n",
    "\n"
   ]
  },
  {
   "cell_type": "code",
   "execution_count": 3,
   "id": "e1a2f268",
   "metadata": {},
   "outputs": [
    {
     "data": {
      "text/html": [
       "<div>\n",
       "<style scoped>\n",
       "    .dataframe tbody tr th:only-of-type {\n",
       "        vertical-align: middle;\n",
       "    }\n",
       "\n",
       "    .dataframe tbody tr th {\n",
       "        vertical-align: top;\n",
       "    }\n",
       "\n",
       "    .dataframe thead th {\n",
       "        text-align: right;\n",
       "    }\n",
       "</style>\n",
       "<table border=\"1\" class=\"dataframe\">\n",
       "  <thead>\n",
       "    <tr style=\"text-align: right;\">\n",
       "      <th></th>\n",
       "      <th>country</th>\n",
       "      <th>year</th>\n",
       "      <th>industry</th>\n",
       "      <th>avg_salary_usd</th>\n",
       "      <th>unemployment_rate</th>\n",
       "      <th>job_openings</th>\n",
       "      <th>remote_work_ratio</th>\n",
       "      <th>education_level</th>\n",
       "      <th>tech_adoption_index</th>\n",
       "      <th>automation_risk</th>\n",
       "      <th>gdp_growth_rate</th>\n",
       "      <th>population_millions</th>\n",
       "      <th>demand_growth</th>\n",
       "      <th>ai_influence_index</th>\n",
       "      <th>trend_category</th>\n",
       "    </tr>\n",
       "  </thead>\n",
       "  <tbody>\n",
       "    <tr>\n",
       "      <th>0</th>\n",
       "      <td>UK</td>\n",
       "      <td>2025</td>\n",
       "      <td>Agriculture</td>\n",
       "      <td>146887</td>\n",
       "      <td>14.676792</td>\n",
       "      <td>30914</td>\n",
       "      <td>81.309025</td>\n",
       "      <td>Master</td>\n",
       "      <td>0.060711</td>\n",
       "      <td>0.608409</td>\n",
       "      <td>5.640715</td>\n",
       "      <td>923.745602</td>\n",
       "      <td>7.614825</td>\n",
       "      <td>0.941882</td>\n",
       "      <td>Growing</td>\n",
       "    </tr>\n",
       "    <tr>\n",
       "      <th>1</th>\n",
       "      <td>Japan</td>\n",
       "      <td>2020</td>\n",
       "      <td>Energy</td>\n",
       "      <td>79121</td>\n",
       "      <td>8.748749</td>\n",
       "      <td>31437</td>\n",
       "      <td>98.673808</td>\n",
       "      <td>High School</td>\n",
       "      <td>0.222692</td>\n",
       "      <td>0.723032</td>\n",
       "      <td>9.995673</td>\n",
       "      <td>102.560420</td>\n",
       "      <td>6.457114</td>\n",
       "      <td>0.695953</td>\n",
       "      <td>Growing</td>\n",
       "    </tr>\n",
       "    <tr>\n",
       "      <th>2</th>\n",
       "      <td>Australia</td>\n",
       "      <td>2016</td>\n",
       "      <td>Finance</td>\n",
       "      <td>49157</td>\n",
       "      <td>5.511180</td>\n",
       "      <td>35664</td>\n",
       "      <td>70.595622</td>\n",
       "      <td>PhD</td>\n",
       "      <td>0.382708</td>\n",
       "      <td>0.935650</td>\n",
       "      <td>0.280710</td>\n",
       "      <td>269.329881</td>\n",
       "      <td>18.870691</td>\n",
       "      <td>0.882562</td>\n",
       "      <td>Stable</td>\n",
       "    </tr>\n",
       "    <tr>\n",
       "      <th>3</th>\n",
       "      <td>Canada</td>\n",
       "      <td>2020</td>\n",
       "      <td>Healthcare</td>\n",
       "      <td>106962</td>\n",
       "      <td>4.824581</td>\n",
       "      <td>29985</td>\n",
       "      <td>0.832802</td>\n",
       "      <td>PhD</td>\n",
       "      <td>0.088014</td>\n",
       "      <td>0.027215</td>\n",
       "      <td>1.664101</td>\n",
       "      <td>1039.931056</td>\n",
       "      <td>18.389537</td>\n",
       "      <td>0.862061</td>\n",
       "      <td>Stable</td>\n",
       "    </tr>\n",
       "    <tr>\n",
       "      <th>4</th>\n",
       "      <td>UK</td>\n",
       "      <td>2010</td>\n",
       "      <td>Education</td>\n",
       "      <td>137895</td>\n",
       "      <td>7.255431</td>\n",
       "      <td>10260</td>\n",
       "      <td>54.213702</td>\n",
       "      <td>PhD</td>\n",
       "      <td>0.756544</td>\n",
       "      <td>0.021767</td>\n",
       "      <td>3.066966</td>\n",
       "      <td>9.521678</td>\n",
       "      <td>-8.835339</td>\n",
       "      <td>0.549276</td>\n",
       "      <td>Stable</td>\n",
       "    </tr>\n",
       "  </tbody>\n",
       "</table>\n",
       "</div>"
      ],
      "text/plain": [
       "     country  year     industry  avg_salary_usd  unemployment_rate  \\\n",
       "0         UK  2025  Agriculture          146887          14.676792   \n",
       "1      Japan  2020       Energy           79121           8.748749   \n",
       "2  Australia  2016      Finance           49157           5.511180   \n",
       "3     Canada  2020   Healthcare          106962           4.824581   \n",
       "4         UK  2010    Education          137895           7.255431   \n",
       "\n",
       "   job_openings  remote_work_ratio education_level  tech_adoption_index  \\\n",
       "0         30914          81.309025          Master             0.060711   \n",
       "1         31437          98.673808     High School             0.222692   \n",
       "2         35664          70.595622             PhD             0.382708   \n",
       "3         29985           0.832802             PhD             0.088014   \n",
       "4         10260          54.213702             PhD             0.756544   \n",
       "\n",
       "   automation_risk  gdp_growth_rate  population_millions  demand_growth  \\\n",
       "0         0.608409         5.640715           923.745602       7.614825   \n",
       "1         0.723032         9.995673           102.560420       6.457114   \n",
       "2         0.935650         0.280710           269.329881      18.870691   \n",
       "3         0.027215         1.664101          1039.931056      18.389537   \n",
       "4         0.021767         3.066966             9.521678      -8.835339   \n",
       "\n",
       "   ai_influence_index trend_category  \n",
       "0            0.941882        Growing  \n",
       "1            0.695953        Growing  \n",
       "2            0.882562         Stable  \n",
       "3            0.862061         Stable  \n",
       "4            0.549276         Stable  "
      ]
     },
     "execution_count": 3,
     "metadata": {},
     "output_type": "execute_result"
    }
   ],
   "source": [
    "# load the dataset\n",
    "data=pd.read_csv(r'job_market_trends.csv')\n",
    "data.head()"
   ]
  },
  {
   "cell_type": "code",
   "execution_count": 4,
   "id": "c40853e4",
   "metadata": {},
   "outputs": [
    {
     "name": "stdout",
     "output_type": "stream",
     "text": [
      "Mean Absolute Error: 32414.7248770257\n",
      "Mean Squared Error: 1404931983.4952676\n",
      "R2 Score: -0.0006128789139208113\n"
     ]
    }
   ],
   "source": [
    "# data is already cleaned and preprocessed we will split the data into features and target variable\n",
    "# X is the feature set and y is the target variable\n",
    "x= data.drop('avg_salary_usd', axis=1)\n",
    "y= data['avg_salary_usd']\n",
    "# split the data into training and testing sets \n",
    "x_train, x_test, y_train, y_test= train_test_split(x, y, test_size=0.2, random_state=42)    \n",
    " \n",
    "# label encoding for categorical variables\n",
    "x_train= pd.get_dummies(x_train, drop_first=True)\n",
    "x_test= pd.get_dummies(x_test, drop_first=True)\n",
    "# align the train and test dataframes by the columns\n",
    "x_train, x_test= x_train.align(x_test, join='left', axis=1, fill_value=0)\n",
    "\n",
    "# create a linear regression model\n",
    "model= LinearRegression()\n",
    "# fit the model on the training data\n",
    "model.fit(x_train, y_train)\n",
    "# predict on the test data\n",
    "y_pred= model.predict(x_test)\n",
    "# evaluate the model\n",
    "from sklearn.metrics import mean_absolute_error, mean_squared_error, r2_score\n",
    "mae= mean_absolute_error(y_test, y_pred)\n",
    "mse= mean_squared_error(y_test, y_pred)\n",
    "r2= r2_score(y_test, y_pred)\n",
    "print(f'Mean Absolute Error: {mae}')\n",
    "print(f'Mean Squared Error: {mse}')\n",
    "print(f'R2 Score: {r2}')\n",
    "\n"
   ]
  },
  {
   "cell_type": "code",
   "execution_count": 5,
   "id": "bf397639",
   "metadata": {},
   "outputs": [
    {
     "data": {
      "image/png": "[encoded data removed]",
      "text/plain": [
       "<Figure size 640x480 with 1 Axes>"
      ]
     },
     "metadata": {},
     "output_type": "display_data"
    }
   ],
   "source": [
    "# visualize the results\n",
    "plt.scatter(y_test, y_pred)\n",
    "\n",
    "plt.xlabel('Actual Salaries')\n",
    "\n",
    "plt.ylabel('Predicted Salaries')\n",
    "\n",
    "plt.title('Actual vs Predicted Salaries')\n",
    "\n",
    "plt.show()\n"
   ]
  },
  {
   "cell_type": "code",
   "execution_count": 6,
   "id": "14b8ed1d",
   "metadata": {},
   "outputs": [
    {
     "name": "stdout",
     "output_type": "stream",
     "text": [
      "Predicted Salary for the example job posting: $84657.24\n"
     ]
    }
   ],
   "source": [
    "# example prediction (use the same feature names as used to build `x` / x_train)\n",
    "example = pd.DataFrame({\n",
    "    'country': ['USA'],\n",
    "    'year': [2023],\n",
    "    'industry': ['IT'],\n",
    "    'unemployment_rate': [5.0],\n",
    "    'job_openings': [1000],\n",
    "    'remote_work_ratio': [50],\n",
    "    'education_level': ['Master'],\n",
    "    'tech_adoption_index': [0.8],\n",
    "    'automation_risk': [0.3],\n",
    "    'gdp_growth_rate': [2.5],\n",
    "    'population_millions': [330.0],\n",
    "    'demand_growth': [5.0],\n",
    "    'ai_influence_index': [0.7],\n",
    "    'trend_category': ['Growing']\n",
    "})\n",
    "\n",
    "# encode categorical variables the same way as during training\n",
    "example = pd.get_dummies(example, drop_first=True)\n",
    "\n",
    "# align to training columns (adds any missing columns with zeros, and orders them)\n",
    "# Use reindex to ensure the example has exactly the same columns (and order) as x_train\n",
    "example = example.reindex(columns=x_train.columns, fill_value=0)\n",
    "\n",
    "# predict\n",
    "predicted_salary = model.predict(example)\n",
    "print(f'Predicted Salary for the example job posting: ${predicted_salary[0]:.2f}')\n"
   ]
  },
  {
   "cell_type": "code",
   "execution_count": 9,
   "id": "8e84f072",
   "metadata": {},
   "outputs": [
    {
     "data": {
      "text/plain": [
       "['job_market_salary_model.pkl']"
      ]
     },
     "execution_count": 9,
     "metadata": {},
     "output_type": "execute_result"
    }
   ],
   "source": [
    "# Save the trained model together with the training feature columns\n",
    "# This file will be picked up by the Streamlit app which looks for a 'columns' list.\n",
    "import joblib\n",
    "# Save a combined object with model and column names used during training\n",
    "joblib.dump({'model': model, 'columns': x_train.columns.tolist()}, 'model_with_columns.joblib')\n",
    "# (optional) also keep the original single-model file for compatibility\n",
    "joblib.dump(model, 'job_market_salary_model.pkl')"
   ]
  }
 ],
 "metadata": {
  "kernelspec": {
   "display_name": ".venv",
   "language": "python",
   "name": "python3"
  },
  "language_info": {
   "codemirror_mode": {
    "name": "ipython",
    "version": 3
   },
   "file_extension": ".py",
   "mimetype": "text/x-python",
   "name": "python",
   "nbconvert_exporter": "python",
   "pygments_lexer": "ipython3",
   "version": "3.12.10"
  }
 },
 "nbformat": 4,
 "nbformat_minor": 5
}
