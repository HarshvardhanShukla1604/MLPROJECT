{
  "cells": [
    {
      "cell_type": "code",
      "execution_count": null,
      "metadata": {},
      "outputs": [],
      "source": [
        "import pandas as pd\n",
        "import numpy as np\n",
        "from sklearn.preprocessing import LabelEncoder\n",
        "from sklearn.model_selection import train_test_split\n",
        "from sklearn.ensemble import RandomForestClassifier\n",
        "import joblib\n",
        "import os\n",
        "\n",
        "\n",
        "def basic_cleaning(df: pd.DataFrame) -> pd.DataFrame:\n",
        "    df = df.copy()\n",
        "    df.drop_duplicates(inplace=True)\n",
        "    num_cols = df.select_dtypes(include=[np.number]).columns\n",
        "    cat_cols = df.select_dtypes(exclude=[np.number]).columns\n",
        "\n",
        "    if len(num_cols) > 0:\n",
        "        df[num_cols] = df[num_cols].fillna(df[num_cols].median())\n",
        "    for col in cat_cols:\n",
        "        if df[col].isnull().any():\n",
        "            df[col] = df[col].fillna(df[col].mode().iloc[0])\n",
        "    return df\n",
        "\n",
        "\n",
        "# --- CONFIG: update before running ---\n",
        "CSV_PATH = r\"C:\\Users\\Admin\\Desktop\\Harshvardhan Project\\.venv\\CSV\\job_market_trends.csv\"\n",
        "TARGET = \"trend_category\"  # change to your target column\n",
        "OUT_PATH = \"trained_model.pkl\"\n",
        "\n",
        "# --- Run training ---\n",
        "print(\"Loading CSV:\", CSV_PATH)\n",
        "df = pd.read_csv(CSV_PATH)\n",
        "df = basic_cleaning(df)\n",
        "\n",
        "if TARGET not in df.columns:\n",
        "    raise ValueError(f\"Target column '{TARGET}' not found in CSV columns: {list(df.columns)}\")\n",
        "\n",
        "le = LabelEncoder()\n",
        "df[\"target_encoded\"] = le.fit_transform(df[TARGET])\n",
        "\n",
        "# Select numeric features by default (excluding target)\n",
        "features = [c for c in df.select_dtypes(include=[np.number]).columns if c not in [TARGET, \"target_encoded\"]]\n",
        "if not features:\n",
        "    raise ValueError(\"No numeric features found. Provide explicit feature columns.\")\n",
        "\n",
        "X = df[features]\n",
        "y = df[\"target_encoded\"]\n",
        "\n",
        "X_train, X_test, y_train, y_test = train_test_split(X, y, test_size=0.2, random_state=42, stratify=y)\n",
        "\n",
        "model = RandomForestClassifier(random_state=42)\n",
        "model.fit(X_train, y_train)\n",
        "\n",
        "artifact = {\"model\": model, \"label_encoder\": le, \"features\": features}\n",
        "joblib.dump(artifact, OUT_PATH)\n",
        "print(f\"Saved trained artifact to: {OUT_PATH}\")\n"
      ]
    },
    {
      "cell_type": "markdown",
      "metadata": {},
      "source": [
        "# Training-only notebook\n",
        "\n",
        "This notebook was converted to a minimal training-only workflow.\n",
        "\n",
        "- Loads a CSV\n",
        "- Performs basic cleaning\n",
        "- Encodes the target\n",
        "- Trains a RandomForestClassifier\n",
        "- Saves an artifact containing the model, label encoder and features\n",
        "\n",
        "Update the CSV path and target variable below before running."
      ]
    }
  ],
  "metadata": {
    "colab": {
      "provenance": []
    },
    "kernelspec": {
      "display_name": ".venv",
      "language": "python",
      "name": "python3"
    },
    "language_info": {
      "codemirror_mode": {
        "name": "ipython",
        "version": 3
      },
      "file_extension": ".py",
      "mimetype": "text/x-python",
      "name": "python",
      "nbconvert_exporter": "python",
      "pygments_lexer": "ipython3",
      "version": "3.11.9"
    }
  },
  "nbformat": 4,
  "nbformat_minor": 0
}
